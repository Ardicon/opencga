{
 "cells": [
  {
   "cell_type": "markdown",
   "metadata": {},
   "source": [
    "# pyOpenCGA Basic User Usage\n",
    "\n",
    "------\n",
    "\n",
    "\n",
    "**[NOTE]** The server methods used by pyopencga client are defined in the following swagger URL:\n",
    "- http://bioinfodev.hpc.cam.ac.uk/opencga-test/webservices\n"
   ]
  },
  {
   "cell_type": "code",
   "execution_count": 6,
   "metadata": {},
   "outputs": [
    {
     "name": "stdout",
     "output_type": "stream",
     "text": [
      "current_dir: ..../notebooks\n",
      "base_modules_dir: ..../pyOpenCGA\n"
     ]
    }
   ],
   "source": [
    "# Initialize PYTHONPATH for pyopencga\n",
    "import sys\n",
    "import os\n",
    "\n",
    "cwd = os.getcwd()\n",
    "print(\"current_dir: ....\"+cwd[-10:])\n",
    "\n",
    "base_modules_dir = os.path.dirname(cwd)\n",
    "print(\"base_modules_dir: ....\"+base_modules_dir[-10:])\n",
    "\n",
    "sys.path.append(base_modules_dir)"
   ]
  },
  {
   "cell_type": "code",
   "execution_count": 17,
   "metadata": {},
   "outputs": [],
   "source": [
    "from pyopencga.opencga_config import ConfigClient\n",
    "from pyopencga.opencga_client import OpenCGAClient\n",
    "import json"
   ]
  },
  {
   "cell_type": "code",
   "execution_count": 15,
   "metadata": {},
   "outputs": [
    {
     "name": "stdout",
     "output_type": "stream",
     "text": [
      "User: caf***\n"
     ]
    }
   ],
   "source": [
    "## Reading user config/credentials to connect to server\n",
    "user_config_json = \"./__user_config.json\"\n",
    "with open(user_config_json,\"r\") as f:\n",
    "    user_credentials = json.loads(f.read())\n",
    "    \n",
    "print('User: {}***'.format(user_credentials[\"user\"][:3]))"
   ]
  },
  {
   "cell_type": "code",
   "execution_count": 16,
   "metadata": {},
   "outputs": [],
   "source": [
    "user = user_credentials[\"user\"]\n",
    "passwd = user_credentials[\"pwd\"]"
   ]
  },
  {
   "cell_type": "code",
   "execution_count": 21,
   "metadata": {},
   "outputs": [
    {
     "name": "stdout",
     "output_type": "stream",
     "text": [
      "Config information:\n",
      " {'version': 'v1', 'rest': {'hosts': ['http://bioinfodev.hpc.cam.ac.uk/opencga-test']}}\n"
     ]
    }
   ],
   "source": [
    "## Creating ConfigClient\n",
    "host = 'http://bioinfodev.hpc.cam.ac.uk/opencga-test'\n",
    "cc = ConfigClient()\n",
    "config_dict = cc.get_basic_config_dict(host)\n",
    "print(\"Config information:\\n\",config_dict)"
   ]
  },
  {
   "cell_type": "code",
   "execution_count": 47,
   "metadata": {},
   "outputs": [
    {
     "name": "stdout",
     "output_type": "stream",
     "text": [
      "#[DEBUGGING]: Adding methods to class User\n"
     ]
    }
   ],
   "source": [
    "oc = OpenCGAClient(configuration=config_dict, \n",
    "                   user=user, \n",
    "                   pwd=passwd)"
   ]
  },
  {
   "cell_type": "code",
   "execution_count": 48,
   "metadata": {},
   "outputs": [
    {
     "name": "stdout",
     "output_type": "stream",
     "text": [
      "Session token:\n",
      "eyJhbGciOi...\n"
     ]
    }
   ],
   "source": [
    "## Getting the session id / token\n",
    "token = oc.session_id\n",
    "print(\"Session token:\\n{}...\".format(token[:10]))"
   ]
  },
  {
   "cell_type": "code",
   "execution_count": 52,
   "metadata": {},
   "outputs": [
    {
     "name": "stdout",
     "output_type": "stream",
     "text": [
      "#[DEBUGGING]: Adding methods to class User\n"
     ]
    }
   ],
   "source": [
    "oc = OpenCGAClient(configuration=config_dict, \n",
    "                   session_id=token)"
   ]
  },
  {
   "cell_type": "markdown",
   "metadata": {},
   "source": [
    "## Working with Users"
   ]
  },
  {
   "cell_type": "code",
   "execution_count": 53,
   "metadata": {},
   "outputs": [
    {
     "name": "stdout",
     "output_type": "stream",
     "text": [
      "['__class__', '__delattr__', '__dict__', '__dir__', '__doc__', '__eq__', '__format__', '__ge__', '__getattribute__', '__gt__', '__hash__', '__init__', '__init_subclass__', '__le__', '__lt__', '__module__', '__ne__', '__new__', '__reduce__', '__reduce_ex__', '__repr__', '__setattr__', '__sizeof__', '__str__', '__subclasshook__', '__weakref__', '_category', '_cfg', '_client_login_handler', '_get', '_get_query_id_str', '_post', '_refresh_token_client', '_rest_retry', 'auto_refresh', 'change_password', 'create', 'delete', 'get_configs', 'get_filters', 'get_projects', 'info', 'login', 'login_handler', 'logout', 'on_retry', 'refresh_token', 'session_id', 'update']\n"
     ]
    }
   ],
   "source": [
    "user_client = oc.users\n",
    "print(dir(user_client))"
   ]
  },
  {
   "cell_type": "code",
   "execution_count": 57,
   "metadata": {},
   "outputs": [
    {
     "data": {
      "text/plain": [
       "[[{'id': 'cafetero',\n",
       "   'name': 'Juan Valdés',\n",
       "   'email': 'cafetero@cafe.rico.es',\n",
       "   'organization': '',\n",
       "   'account': {'type': 'full',\n",
       "    'creationDate': '20180918141732',\n",
       "    'expirationDate': '20190918141732',\n",
       "    'authOrigin': 'internal'},\n",
       "   'status': {'name': 'READY', 'date': '20180918141732', 'message': ''},\n",
       "   'lastModified': '20190221155441344',\n",
       "   'size': -1,\n",
       "   'quota': 200000,\n",
       "   'projects': [{'id': 'GRCH37',\n",
       "     'name': 'GRCH37',\n",
       "     'uuid': '7Q5e4QFlAAEAAQ7Nii5FVA',\n",
       "     'fqn': 'cafetero@GRCH37',\n",
       "     'creationDate': '20180918142106',\n",
       "     'description': '',\n",
       "     'organization': '',\n",
       "     'organism': {'scientificName': 'Homo Sapiens',\n",
       "      'commonName': 'grch37',\n",
       "      'taxonomyCode': 0,\n",
       "      'assembly': 'grch37'},\n",
       "     'currentRelease': 1,\n",
       "     'status': {'name': 'READY', 'date': '20180918142106', 'message': ''},\n",
       "     'size': 0,\n",
       "     'studies': [{'id': 'platinum',\n",
       "       'name': 'Platinum',\n",
       "       'uuid': '7REdkAFlAAIAAVnBP_uPGg',\n",
       "       'type': 'CASE_CONTROL',\n",
       "       'creationDate': '20180918142406',\n",
       "       'modificationDate': '20180918142406',\n",
       "       'description': '',\n",
       "       'status': {'name': 'READY', 'date': '20180918142406', 'message': ''},\n",
       "       'lastModified': '20180918142406',\n",
       "       'size': 0,\n",
       "       'cipher': 'none',\n",
       "       'fqn': 'cafetero@GRCH37:platinum',\n",
       "       'groups': [{'id': '@members',\n",
       "         'name': 'members',\n",
       "         'userIds': ['test2', 'test3', 'test4', 'test1', 'cafetero']},\n",
       "        {'id': '@admins', 'name': 'admins', 'userIds': []}],\n",
       "       'experiments': [],\n",
       "       'files': [],\n",
       "       'jobs': [],\n",
       "       'individuals': [],\n",
       "       'samples': [],\n",
       "       'datasets': [],\n",
       "       'cohorts': [],\n",
       "       'panels': [],\n",
       "       'permissionRules': {},\n",
       "       'uri': 'file:///mnt/data/opencga-test/sessions/users/cafetero/projects/1/2/',\n",
       "       'release': 1,\n",
       "       'dataStores': {},\n",
       "       'stats': {},\n",
       "       'attributes': {}},\n",
       "      {'id': 'GNOMAD_EXOMES',\n",
       "       'name': 'GenomAD Exomes',\n",
       "       'uuid': '7RFu4AFlAAIAAZSS4XjzBA',\n",
       "       'type': 'CASE_CONTROL',\n",
       "       'creationDate': '20180918142427',\n",
       "       'modificationDate': '20180918142427',\n",
       "       'description': '',\n",
       "       'status': {'name': 'READY', 'date': '20180918142427', 'message': ''},\n",
       "       'lastModified': '20180918142427',\n",
       "       'size': 0,\n",
       "       'cipher': 'none',\n",
       "       'fqn': 'cafetero@GRCH37:GNOMAD_EXOMES',\n",
       "       'groups': [{'id': '@members',\n",
       "         'name': 'members',\n",
       "         'userIds': ['test2', 'test4']},\n",
       "        {'id': '@admins', 'name': 'admins', 'userIds': []}],\n",
       "       'experiments': [],\n",
       "       'files': [],\n",
       "       'jobs': [],\n",
       "       'individuals': [],\n",
       "       'samples': [],\n",
       "       'datasets': [],\n",
       "       'cohorts': [],\n",
       "       'panels': [],\n",
       "       'permissionRules': {},\n",
       "       'uri': 'file:///mnt/data/opencga-test/sessions/users/cafetero/projects/1/4/',\n",
       "       'release': 1,\n",
       "       'dataStores': {},\n",
       "       'stats': {},\n",
       "       'attributes': {}}],\n",
       "     'dataStores': {},\n",
       "     'attributes': {}}],\n",
       "   'tools': [],\n",
       "   'configs': {'filters': [{'name': 'Indels',\n",
       "      'description': 'Fetch all INDEL variants',\n",
       "      'bioformat': 'VARIANT',\n",
       "      'query': {'studies': 'cafetero@GRCH37:platinum', 'type': 'INDEL'},\n",
       "      'options': {}}]},\n",
       "   'attributes': {}}]]"
      ]
     },
     "execution_count": 57,
     "metadata": {},
     "output_type": "execute_result"
    }
   ],
   "source": [
    "## getting user information\n",
    "## [NOTE] User needs the quey_id string directly --> (user)\n",
    "user_client.info(user)"
   ]
  },
  {
   "cell_type": "code",
   "execution_count": 55,
   "metadata": {},
   "outputs": [
    {
     "data": {
      "text/plain": [
       "[[{'id': 'GRCH37',\n",
       "   'name': 'GRCH37',\n",
       "   'uuid': '7Q5e4QFlAAEAAQ7Nii5FVA',\n",
       "   'fqn': 'cafetero@GRCH37',\n",
       "   'creationDate': '20180918142106',\n",
       "   'description': '',\n",
       "   'organization': '',\n",
       "   'organism': {'scientificName': 'Homo Sapiens',\n",
       "    'commonName': 'grch37',\n",
       "    'taxonomyCode': 0,\n",
       "    'assembly': 'grch37'},\n",
       "   'currentRelease': 1,\n",
       "   'status': {'name': 'READY', 'date': '20180918142106', 'message': ''},\n",
       "   'size': 0,\n",
       "   'studies': [{'id': 'platinum',\n",
       "     'name': 'Platinum',\n",
       "     'uuid': '7REdkAFlAAIAAVnBP_uPGg',\n",
       "     'type': 'CASE_CONTROL',\n",
       "     'creationDate': '20180918142406',\n",
       "     'modificationDate': '20180918142406',\n",
       "     'description': '',\n",
       "     'status': {'name': 'READY', 'date': '20180918142406', 'message': ''},\n",
       "     'lastModified': '20180918142406',\n",
       "     'size': 0,\n",
       "     'cipher': 'none',\n",
       "     'fqn': 'cafetero@GRCH37:platinum',\n",
       "     'groups': [{'id': '@members',\n",
       "       'name': 'members',\n",
       "       'userIds': ['test2', 'test3', 'test4', 'test1', 'cafetero']},\n",
       "      {'id': '@admins', 'name': 'admins', 'userIds': []}],\n",
       "     'experiments': [],\n",
       "     'files': [],\n",
       "     'jobs': [],\n",
       "     'individuals': [],\n",
       "     'samples': [],\n",
       "     'datasets': [],\n",
       "     'cohorts': [],\n",
       "     'panels': [],\n",
       "     'variableSets': [],\n",
       "     'permissionRules': {},\n",
       "     'uri': 'file:///mnt/data/opencga-test/sessions/users/cafetero/projects/1/2/',\n",
       "     'release': 1,\n",
       "     'dataStores': {},\n",
       "     'stats': {},\n",
       "     'attributes': {}},\n",
       "    {'id': 'GNOMAD_EXOMES',\n",
       "     'name': 'GenomAD Exomes',\n",
       "     'uuid': '7RFu4AFlAAIAAZSS4XjzBA',\n",
       "     'type': 'CASE_CONTROL',\n",
       "     'creationDate': '20180918142427',\n",
       "     'modificationDate': '20180918142427',\n",
       "     'description': '',\n",
       "     'status': {'name': 'READY', 'date': '20180918142427', 'message': ''},\n",
       "     'lastModified': '20180918142427',\n",
       "     'size': 0,\n",
       "     'cipher': 'none',\n",
       "     'fqn': 'cafetero@GRCH37:GNOMAD_EXOMES',\n",
       "     'groups': [{'id': '@members',\n",
       "       'name': 'members',\n",
       "       'userIds': ['test2', 'test4']},\n",
       "      {'id': '@admins', 'name': 'admins', 'userIds': []}],\n",
       "     'experiments': [],\n",
       "     'files': [],\n",
       "     'jobs': [],\n",
       "     'individuals': [],\n",
       "     'samples': [],\n",
       "     'datasets': [],\n",
       "     'cohorts': [],\n",
       "     'panels': [],\n",
       "     'variableSets': [],\n",
       "     'permissionRules': {},\n",
       "     'uri': 'file:///mnt/data/opencga-test/sessions/users/cafetero/projects/1/4/',\n",
       "     'release': 1,\n",
       "     'dataStores': {},\n",
       "     'stats': {},\n",
       "     'attributes': {}}],\n",
       "   'dataStores': {},\n",
       "   'attributes': {}}]]"
      ]
     },
     "execution_count": 55,
     "metadata": {},
     "output_type": "execute_result"
    }
   ],
   "source": [
    "## Getting user projects\n",
    "## [NOTE] Client specific methods have the query_id as a key:value (i.e (user=user_id)) \n",
    "user_client.get_projects(user=user)"
   ]
  },
  {
   "cell_type": "markdown",
   "metadata": {},
   "source": [
    "## Working with Projects"
   ]
  },
  {
   "cell_type": "markdown",
   "metadata": {},
   "source": [
    "## Working with Studies"
   ]
  }
 ],
 "metadata": {
  "kernelspec": {
   "display_name": "Python 3",
   "language": "python",
   "name": "python3"
  },
  "language_info": {
   "codemirror_mode": {
    "name": "ipython",
    "version": 3
   },
   "file_extension": ".py",
   "mimetype": "text/x-python",
   "name": "python",
   "nbconvert_exporter": "python",
   "pygments_lexer": "ipython3",
   "version": "3.6.6"
  }
 },
 "nbformat": 4,
 "nbformat_minor": 2
}
