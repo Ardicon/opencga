{
 "cells": [
  {
   "cell_type": "markdown",
   "metadata": {},
   "source": [
    "# pyOpenCGA Basic User Usage\n",
    "\n",
    "------\n",
    "\n",
    "\n",
    "**[NOTE]** The server methods used by pyopencga client are defined in the following swagger URL:\n",
    "- http://bioinfo.hpc.cam.ac.uk/opencga-demo/webservices\n",
    "\n",
    "\n",
    "For tutorials and more info about accessing the OpenCGA REST please read the documentation at http://docs.opencb.org/display/opencga/Python"
   ]
  },
  {
   "cell_type": "markdown",
   "metadata": {},
   "source": [
    "## Loading pyOpenCGA"
   ]
  },
  {
   "cell_type": "code",
   "execution_count": 1,
   "metadata": {
    "pycharm": {
     "is_executing": false
    }
   },
   "outputs": [],
   "source": [
    "# Initialize PYTHONPATH for pyopencga\n",
    "import sys\n",
    "import os\n",
    "from pprint import pprint\n"
   ]
  },
  {
   "cell_type": "markdown",
   "metadata": {
    "pycharm": {
     "name": "#%% md\n"
    }
   },
   "source": [
    "### Now is time to import pyopencga modules.\n",
    "\n",
    "You have two options\n",
    "\n",
    "a) You can import pyopencga directly (skip next section) if you have installed pyopencga with `pip install pyopencga`  (remember to use  `sudo` unless you are using your own Python \n",
    "install or virtualenv)\n",
    "\n",
    "b) If you need to import from the source code remember that Python3 does not accept relative importing, so you need to append the module path to `sys.path` \n",
    "\n",
    "\n",
    "#### Preparing environmnet for importing from source"
   ]
  },
  {
   "cell_type": "code",
   "execution_count": 2,
   "metadata": {
    "collapsed": false,
    "jupyter": {
     "outputs_hidden": false
    },
    "pycharm": {
     "is_executing": false,
     "name": "#%%\n"
    }
   },
   "outputs": [
    {
     "name": "stdout",
     "output_type": "stream",
     "text": [
      "current_dir: ..../notebooks\n",
      "base_modules_dir: ..../pyOpenCGA\n"
     ]
    }
   ],
   "source": [
    "cwd = os.getcwd()\n",
    "print(\"current_dir: ....\"+cwd[-10:])\n",
    "\n",
    "base_modules_dir = os.path.dirname(cwd)\n",
    "print(\"base_modules_dir: ....\"+base_modules_dir[-10:])\n",
    "\n",
    "sys.path.append(base_modules_dir)\n"
   ]
  },
  {
   "cell_type": "markdown",
   "metadata": {
    "pycharm": {
     "name": "#%% md\n"
    }
   },
   "source": [
    "#### Importing pyopencga\n"
   ]
  },
  {
   "cell_type": "code",
   "execution_count": 3,
   "metadata": {
    "pycharm": {
     "is_executing": false
    }
   },
   "outputs": [],
   "source": [
    "from pyopencga.opencga_config import ClientConfiguration \n",
    "from pyopencga.opencga_client import OpenCGAClient\n",
    "import json\n"
   ]
  },
  {
   "cell_type": "markdown",
   "metadata": {},
   "source": [
    "## Creating some useful functions to manage the results"
   ]
  },
  {
   "cell_type": "code",
   "execution_count": 28,
   "metadata": {},
   "outputs": [],
   "source": [
    "def get_not_private_methods(client):\n",
    "    all_methods = dir(client)\n",
    "    \n",
    "    #showing all methos (exept the ones starting with \"_\", as they are private for the API)\n",
    "    methods = [method for method in all_methods if not method.startswith(\"_\")]\n",
    "    return methods"
   ]
  },
  {
   "cell_type": "markdown",
   "metadata": {},
   "source": [
    "## Setup client and login\n",
    "\n",
    "\n"
   ]
  },
  {
   "cell_type": "markdown",
   "metadata": {},
   "source": [
    "**Configuration and Credentials** \n",
    "\n",
    "You need to provide a server URL in the standard configuration format for OpenCGA as a dict or in a json file\n",
    "\n",
    "Regarding credentials, if you don't pass the password, it would be asked interactively without echo.\n"
   ]
  },
  {
   "cell_type": "code",
   "execution_count": 4,
   "metadata": {
    "pycharm": {
     "is_executing": false
    }
   },
   "outputs": [],
   "source": [
    "# server host\n",
    "\n",
    "# user credentials\n",
    "user = \"demo\"\n",
    "passwd = \"demo\"\n",
    "\n",
    "# the user demo access projects from user opencga\n",
    "prj_owner = \"opencga\"\n"
   ]
  },
  {
   "cell_type": "markdown",
   "metadata": {},
   "source": [
    "#### Creating ConfigClient for server connection configuration"
   ]
  },
  {
   "cell_type": "code",
   "execution_count": 5,
   "metadata": {
    "pycharm": {
     "is_executing": false
    }
   },
   "outputs": [
    {
     "name": "stdout",
     "output_type": "stream",
     "text": [
      "Config information:\n",
      " {'rest': {'host': 'http://bioinfo.hpc.cam.ac.uk/opencga-demo'}}\n"
     ]
    }
   ],
   "source": [
    "# Creating ClientConfiguration dict\n",
    "host = 'http://bioinfo.hpc.cam.ac.uk/opencga-demo'\n",
    "\n",
    "config_dict = {\"rest\": {\n",
    "                       \"host\": host \n",
    "                    }\n",
    "               }\n",
    "\n",
    "print(\"Config information:\\n\",config_dict)\n"
   ]
  },
  {
   "cell_type": "markdown",
   "metadata": {
    "pycharm": {
     "name": "#%% md\n"
    }
   },
   "source": [
    "#### Initialize the client configuration\n",
    "\n",
    "You can pass a dictionary (see ) \n"
   ]
  },
  {
   "cell_type": "code",
   "execution_count": 6,
   "metadata": {
    "collapsed": false,
    "jupyter": {
     "outputs_hidden": false
    },
    "pycharm": {
     "is_executing": false,
     "name": "#%%\n"
    }
   },
   "outputs": [],
   "source": [
    "config = ClientConfiguration(config_dict)\n",
    "oc = OpenCGAClient(config)\n"
   ]
  },
  {
   "cell_type": "markdown",
   "metadata": {},
   "source": [
    "#### Make the login\n"
   ]
  },
  {
   "cell_type": "code",
   "execution_count": 8,
   "metadata": {
    "pycharm": {
     "is_executing": false
    }
   },
   "outputs": [
    {
     "name": "stdin",
     "output_type": "stream",
     "text": [
      " ····\n"
     ]
    }
   ],
   "source": [
    "# here we put only the user in order to be asked for the password interactively\n",
    "oc.login(user)\n"
   ]
  },
  {
   "cell_type": "markdown",
   "metadata": {},
   "source": [
    "**You are now connected to OpenCGA**"
   ]
  },
  {
   "cell_type": "markdown",
   "metadata": {},
   "source": [
    "## Working with Users"
   ]
  },
  {
   "cell_type": "code",
   "execution_count": 29,
   "metadata": {
    "pycharm": {
     "is_executing": false
    }
   },
   "outputs": [
    {
     "data": {
      "text/plain": [
       "['auto_refresh',\n",
       " 'configs',\n",
       " 'create',\n",
       " 'delete',\n",
       " 'filters',\n",
       " 'info',\n",
       " 'login',\n",
       " 'login_handler',\n",
       " 'logout',\n",
       " 'on_retry',\n",
       " 'projects',\n",
       " 'refresh_token',\n",
       " 'session_id',\n",
       " 'token',\n",
       " 'update',\n",
       " 'update_configs',\n",
       " 'update_filter',\n",
       " 'update_filters',\n",
       " 'update_password']"
      ]
     },
     "execution_count": 29,
     "metadata": {},
     "output_type": "execute_result"
    }
   ],
   "source": [
    "# Listing available methods for the user client object\n",
    "user_client = oc.users\n",
    "\n",
    "# showing all methods (exept the ones starting with \"_\", as they are private for the API)\n",
    "get_not_private_methods(user_client)"
   ]
  },
  {
   "cell_type": "code",
   "execution_count": 17,
   "metadata": {
    "pycharm": {
     "is_executing": false
    }
   },
   "outputs": [
    {
     "name": "stdout",
     "output_type": "stream",
     "text": [
      "user info:\n",
      "name: Demo\towned_projects: 0\n"
     ]
    }
   ],
   "source": [
    "## getting user information\n",
    "## [NOTE] User needs the quey_id string directly --> (user)\n",
    "uc_info = user_client.info(user).responses[0]['results'][0]\n",
    "\n",
    "print(\"user info:\")\n",
    "print(\"name: {}\\towned_projects: {}\".format(uc_info[\"name\"], len(uc_info[\"projects\"])))\n"
   ]
  },
  {
   "cell_type": "markdown",
   "metadata": {
    "pycharm": {
     "name": "#%% md\n"
    }
   },
   "source": [
    "The demo user has not projects from its own, but has access to some projectso from `opencga` user.\n",
    "\n",
    "Let's see how to find it out.\n",
    "\n",
    "We need to list the project info from project client not from the user client.\n",
    "\n",
    "We use the method `search()`\n",
    "\n",
    "And remember that OpenCGA REST objects encapsulate the result inside the responses property, so we need to access the first element of the responses array. \n"
   ]
  },
  {
   "cell_type": "code",
   "execution_count": 37,
   "metadata": {
    "pycharm": {
     "is_executing": false
    }
   },
   "outputs": [
    {
     "name": "stdout",
     "output_type": "stream",
     "text": [
      "Name: Exomes GRCh37\tfull_id: opencga@exomes_grch37\n"
     ]
    }
   ],
   "source": [
    "## Getting user projects\n",
    "## [NOTE] Client specific methods have the query_id as a key:value (i.e (user=user_id)) \n",
    "project_client = oc.projects\n",
    "projects_info = project_client.search().responses[0][\"results\"]\n",
    "\n",
    "for project in projects_info:\n",
    "    print(\"Name: {}\\tfull_id: {}\".format(project[\"name\"], project[\"fqn\"]))\n",
    "\n",
    "\n"
   ]
  },
  {
   "cell_type": "markdown",
   "metadata": {},
   "source": [
    "**User demo has access to one project called opencga@exomes_grch37**\n",
    "\n",
    "note: in opencga the projects and studies has a `full qualify name, fqn` with the format [owner]@[porject]:[study] "
   ]
  },
  {
   "cell_type": "markdown",
   "metadata": {},
   "source": [
    "## Working with Projects"
   ]
  },
  {
   "cell_type": "code",
   "execution_count": 32,
   "metadata": {},
   "outputs": [
    {
     "data": {
      "text/plain": [
       "['aggregation_stats',\n",
       " 'auto_refresh',\n",
       " 'create',\n",
       " 'delete',\n",
       " 'increment_release',\n",
       " 'info',\n",
       " 'login_handler',\n",
       " 'on_retry',\n",
       " 'search',\n",
       " 'session_id',\n",
       " 'studies',\n",
       " 'token',\n",
       " 'update']"
      ]
     },
     "execution_count": 32,
     "metadata": {},
     "output_type": "execute_result"
    }
   ],
   "source": [
    "project_client = oc.projects\n",
    "\n",
    "get_not_private_methods(project_client)"
   ]
  },
  {
   "cell_type": "code",
   "execution_count": 38,
   "metadata": {},
   "outputs": [
    {
     "name": "stdout",
     "output_type": "stream",
     "text": [
      "Name: Exomes GRCh37\tfull_id: opencga@exomes_grch37\n"
     ]
    }
   ],
   "source": [
    "## Getting all projects from logged in user\n",
    "project_client = oc.projects\n",
    "projects_list = project_client.search().responses[0][\"results\"]\n",
    "\n",
    "for project in projects_list:\n",
    "    print(\"Name: {}\\tfull_id: {}\".format(project[\"name\"], project[\"fqn\"]))"
   ]
  },
  {
   "cell_type": "code",
   "execution_count": 56,
   "metadata": {},
   "outputs": [
    {
     "name": "stdout",
     "output_type": "stream",
     "text": [
      "project:exomes_grch37\n",
      "study:Corpasome\ttype:CASE_CONTROL\n",
      "--\n",
      "project:exomes_grch37\n",
      "study:CEPH Trio\ttype:CASE_CONTROL\n",
      "--\n"
     ]
    }
   ],
   "source": [
    "## Getting information from a specific project\n",
    "project_name = 'exomes_grch37'\n",
    "project_info = project_client.info(project_name).responses[0]['results'][0]\n",
    "\n",
    "#show the studies\n",
    "for study in project_info['studies']:\n",
    "    print(\"project:{}\\nstudy:{}\\ttype:{}\".format(project_name, study['name'], study['type'] ))\n",
    "    print('--')"
   ]
  },
  {
   "cell_type": "code",
   "execution_count": 58,
   "metadata": {},
   "outputs": [
    {
     "name": "stdout",
     "output_type": "stream",
     "text": [
      "{'attributes': {},\n",
      " 'cipher': 'none',\n",
      " 'cohorts': [],\n",
      " 'creationDate': '20190604154741',\n",
      " 'dataStores': {},\n",
      " 'datasets': [],\n",
      " 'description': '',\n",
      " 'experiments': [],\n",
      " 'files': [],\n",
      " 'fqn': 'opencga@exomes_grch37:corpasome',\n",
      " 'groups': [{'id': '@members',\n",
      "             'name': '@members',\n",
      "             'userIds': ['opencga', 'demo']},\n",
      "            {'id': '@admins', 'name': '@admins', 'userIds': []}],\n",
      " 'id': 'corpasome',\n",
      " 'individuals': [],\n",
      " 'jobs': [],\n",
      " 'lastModified': '20190604154741',\n",
      " 'modificationDate': '20190604154741',\n",
      " 'name': 'Corpasome',\n",
      " 'panels': [],\n",
      " 'permissionRules': {},\n",
      " 'release': 1,\n",
      " 'samples': [],\n",
      " 'size': 0,\n",
      " 'stats': {},\n",
      " 'status': {'date': '20190604154741', 'message': '', 'name': 'READY'},\n",
      " 'type': 'CASE_CONTROL',\n",
      " 'uri': 'file:///mnt/data/opencga-demo/sessions/users/opencga/projects/1/2/',\n",
      " 'uuid': 'Iyy1cwFrAAIAAViPXu86gw',\n",
      " 'variableSets': []}\n",
      "{'attributes': {},\n",
      " 'cipher': 'none',\n",
      " 'cohorts': [],\n",
      " 'creationDate': '20190617155526',\n",
      " 'dataStores': {},\n",
      " 'datasets': [],\n",
      " 'description': 'Data generated from replicates of the CEPH trio NA12878, '\n",
      "                'NA12891 and NA12892 sequenced on NextSeq 500 using V2 '\n",
      "                'reagents. Samples prepared using Nextera Rapid Capture Exome '\n",
      "                'reagent kit.',\n",
      " 'experiments': [],\n",
      " 'files': [],\n",
      " 'fqn': 'opencga@exomes_grch37:ceph_trio',\n",
      " 'groups': [{'id': '@members',\n",
      "             'name': '@members',\n",
      "             'userIds': ['opencga', 'demo']},\n",
      "            {'id': '@admins', 'name': '@admins', 'userIds': []}],\n",
      " 'id': 'ceph_trio',\n",
      " 'individuals': [],\n",
      " 'jobs': [],\n",
      " 'lastModified': '20190617155526',\n",
      " 'modificationDate': '20190617155526',\n",
      " 'name': 'CEPH Trio',\n",
      " 'panels': [],\n",
      " 'permissionRules': {},\n",
      " 'release': 1,\n",
      " 'samples': [],\n",
      " 'size': 0,\n",
      " 'stats': {},\n",
      " 'status': {'date': '20190617155526', 'message': '', 'name': 'READY'},\n",
      " 'type': 'CASE_CONTROL',\n",
      " 'uri': 'file:///mnt/data/opencga-demo/sessions/users/opencga/projects/1/16/',\n",
      " 'uuid': 'ZiZ7WgFrAAIAATfAQacuCw',\n",
      " 'variableSets': []}\n"
     ]
    }
   ],
   "source": [
    "## Fetching the studies from a project using the studies method\n",
    "results = project_client.studies(project_name).responses[0]['results']\n",
    "for result in results:\n",
    "    pprint(result)"
   ]
  }
 ],
 "metadata": {
  "kernelspec": {
   "display_name": "Python 3",
   "language": "python",
   "name": "python3"
  },
  "language_info": {
   "codemirror_mode": {
    "name": "ipython",
    "version": 3
   },
   "file_extension": ".py",
   "mimetype": "text/x-python",
   "name": "python",
   "nbconvert_exporter": "python",
   "pygments_lexer": "ipython3",
   "version": "3.7.4"
  },
  "pycharm": {
   "stem_cell": {
    "cell_type": "raw",
    "metadata": {
     "collapsed": false
    },
    "source": []
   }
  }
 },
 "nbformat": 4,
 "nbformat_minor": 4
}
