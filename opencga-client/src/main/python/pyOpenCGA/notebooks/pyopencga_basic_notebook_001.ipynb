{
 "cells": [
  {
   "cell_type": "markdown",
   "metadata": {},
   "source": [
    "# pyOpenCGA Basic User Usage\n",
    "\n",
    "------\n",
    "\n",
    "\n",
    "**[NOTE]** The server methods used by pyopencga client are defined in the following swagger URL:\n",
    "- http://bioinfodev.hpc.cam.ac.uk/opencga-test/webservices\n",
    "\n",
    "**[NOTE]** Current implemented methods are registered at the following spreadsheet:\n",
    "- https://docs.google.com/spreadsheets/d/1QpU9yl3UTneqwRqFX_WAqCiCfZBk5eU-4E3K-WVvuoc/edit?usp=sharing"
   ]
  },
  {
   "cell_type": "markdown",
   "metadata": {},
   "source": [
    "## Loading pyOpenCGA"
   ]
  },
  {
   "cell_type": "code",
   "execution_count": null,
   "metadata": {},
   "outputs": [],
   "source": [
    "# Initialize PYTHONPATH for pyopencga\n",
    "import sys\n",
    "import os\n",
    "from pprint import pprint\n",
    "\n",
    "cwd = os.getcwd()\n",
    "print(\"current_dir: ....\"+cwd[-10:])\n",
    "\n",
    "base_modules_dir = os.path.dirname(cwd)\n",
    "print(\"base_modules_dir: ....\"+base_modules_dir[-10:])\n",
    "\n",
    "sys.path.append(base_modules_dir)"
   ]
  },
  {
   "cell_type": "code",
   "execution_count": null,
   "metadata": {},
   "outputs": [],
   "source": [
    "from pyopencga.opencga_config import ConfigClient\n",
    "from pyopencga.opencga_client import OpenCGAClient\n",
    "import json"
   ]
  },
  {
   "cell_type": "markdown",
   "metadata": {},
   "source": [
    "## Setting credentials for LogIn\n",
    "\n",
    "### STOP: before continuing you need to create a credential file in your file system"
   ]
  },
  {
   "cell_type": "markdown",
   "metadata": {},
   "source": [
    "**Credentials** \n",
    "\n",
    "Plese add the credentials for opencga login into a file in json format and read them from there.\n",
    "\n",
    "i.e:  \n",
    "create a file with name: `\\__user_config.json`  \n",
    "and with content: `{\"user\":\"xxx\",\"pwd\":\"yyy\"}`"
   ]
  },
  {
   "cell_type": "code",
   "execution_count": null,
   "metadata": {},
   "outputs": [],
   "source": [
    "## Reading user config/credentials to connect to server\n",
    "user_config_json = \"./__user_config.json\"\n",
    "\n",
    "if not os.path.exists(user_config_json):\n",
    "    raise Exception(\"No config file found, please create one following the example in the markdown cell above\")\n",
    "\n",
    "with open(user_config_json,\"r\") as f:\n",
    "    user_credentials = json.loads(f.read())\n",
    "\n",
    "print('User: {}***'.format(user_credentials[\"user\"][:3]))"
   ]
  },
  {
   "cell_type": "code",
   "execution_count": null,
   "metadata": {},
   "outputs": [],
   "source": [
    "user = user_credentials[\"user\"]\n",
    "passwd = user_credentials[\"pwd\"]"
   ]
  },
  {
   "cell_type": "markdown",
   "metadata": {},
   "source": [
    "## Creating ConfigClient for server connection configuration"
   ]
  },
  {
   "cell_type": "code",
   "execution_count": null,
   "metadata": {},
   "outputs": [],
   "source": [
    "## Creating ConfigClient\n",
    "host = 'http://bioinfodev.hpc.cam.ac.uk/opencga-test'\n",
    "cc = ConfigClient()\n",
    "config_dict = cc.get_basic_config_dict(host)\n",
    "print(\"Config information:\\n\",config_dict)"
   ]
  },
  {
   "cell_type": "markdown",
   "metadata": {},
   "source": [
    "## LogIn with user credentials"
   ]
  },
  {
   "cell_type": "code",
   "execution_count": null,
   "metadata": {},
   "outputs": [],
   "source": [
    "oc = OpenCGAClient(configuration=config_dict, \n",
    "                   user=user, \n",
    "                   pwd=passwd)"
   ]
  },
  {
   "cell_type": "code",
   "execution_count": null,
   "metadata": {},
   "outputs": [],
   "source": [
    "## Getting the session id / token\n",
    "token = oc.session_id\n",
    "print(\"Session token:\\n{}...\".format(token[:10]))"
   ]
  },
  {
   "cell_type": "code",
   "execution_count": null,
   "metadata": {},
   "outputs": [],
   "source": [
    "oc = OpenCGAClient(configuration=config_dict, \n",
    "                   session_id=token)"
   ]
  },
  {
   "cell_type": "markdown",
   "metadata": {},
   "source": [
    "**You are now connected to OpenCGA**"
   ]
  },
  {
   "cell_type": "markdown",
   "metadata": {},
   "source": [
    "## Working with Users"
   ]
  },
  {
   "cell_type": "code",
   "execution_count": null,
   "metadata": {},
   "outputs": [],
   "source": [
    "# Listing available methods for the user client object\n",
    "user_client = oc.users\n",
    "print(dir(user_client))"
   ]
  },
  {
   "cell_type": "code",
   "execution_count": null,
   "metadata": {},
   "outputs": [],
   "source": [
    "## getting user information\n",
    "## [NOTE] User needs the quey_id string directly --> (user)\n",
    "user_client.info(user).result()"
   ]
  },
  {
   "cell_type": "code",
   "execution_count": null,
   "metadata": {},
   "outputs": [],
   "source": [
    "## Getting user projects\n",
    "## [NOTE] Client specific methods have the query_id as a key:value (i.e (user=user_id)) \n",
    "user_client.projects(user=user).result()"
   ]
  },
  {
   "cell_type": "code",
   "execution_count": null,
   "metadata": {},
   "outputs": [],
   "source": [
    "## Getting user configurations\n",
    "## [NOTE] Client specific methods have the query_id as a key:value (i.e (user=user_id)) \n",
    "user_client.configs(user=user).result()"
   ]
  },
  {
   "cell_type": "code",
   "execution_count": null,
   "metadata": {},
   "outputs": [],
   "source": [
    "## Getting user filter configurations\n",
    "## [NOTE] Client specific methods have the query_id as a key:value (i.e (user=user_id)) \n",
    "user_client.filters(user=user).result()"
   ]
  },
  {
   "cell_type": "markdown",
   "metadata": {},
   "source": [
    "## Working with Projects"
   ]
  },
  {
   "cell_type": "code",
   "execution_count": null,
   "metadata": {},
   "outputs": [],
   "source": [
    "project_client = oc.projects\n",
    "print(dir(oc.projects))"
   ]
  },
  {
   "cell_type": "code",
   "execution_count": null,
   "metadata": {},
   "outputs": [],
   "source": [
    "## Getting all projects from logged in user\n",
    "project_client.search().result()"
   ]
  },
  {
   "cell_type": "code",
   "execution_count": null,
   "metadata": {},
   "outputs": [],
   "source": [
    "## Getting information from a specific project\n",
    "project_client.info('GRCH37').result()"
   ]
  },
  {
   "cell_type": "code",
   "execution_count": null,
   "metadata": {},
   "outputs": [],
   "source": [
    "## Fetching the studies from a project\n",
    "results = project_client.studies('GRCH37').results()\n",
    "for result in results:\n",
    "    pprint(result)"
   ]
  },
  {
   "cell_type": "markdown",
   "metadata": {},
   "source": [
    "## Working with Files"
   ]
  },
  {
   "cell_type": "code",
   "execution_count": null,
   "metadata": {},
   "outputs": [],
   "source": [
    "## test to check if multiple extra parameters work\n",
    "fc = oc.files"
   ]
  },
  {
   "cell_type": "code",
   "execution_count": null,
   "metadata": {},
   "outputs": [],
   "source": [
    "# Checking the method first from QueryResponse\n",
    "fc.search(study = \"GRCH37:platinum\", type=\"FILE\").first()"
   ]
  },
  {
   "cell_type": "code",
   "execution_count": null,
   "metadata": {},
   "outputs": [],
   "source": [
    "# Checking the method result from QueryResponse\n",
    "fc.search(study = \"GRCH37:platinum\", type=\"FILE\").result()"
   ]
  },
  {
   "cell_type": "code",
   "execution_count": null,
   "metadata": {},
   "outputs": [],
   "source": [
    "# Checking the method results from QueryResponse\n",
    "results = fc.search(study = \"GRCH37:platinum\", type=\"FILE\", format=\"BAM\").results()\n",
    "for result in results:\n",
    "    pprint(result)"
   ]
  }
 ],
 "metadata": {
  "kernelspec": {
   "display_name": "Python 3",
   "language": "python",
   "name": "python3"
  },
  "language_info": {
   "codemirror_mode": {
    "name": "ipython",
    "version": 3
   },
   "file_extension": ".py",
   "mimetype": "text/x-python",
   "name": "python",
   "nbconvert_exporter": "python",
   "pygments_lexer": "ipython3",
   "version": "3.6.2"
  }
 },
 "nbformat": 4,
 "nbformat_minor": 2
}
