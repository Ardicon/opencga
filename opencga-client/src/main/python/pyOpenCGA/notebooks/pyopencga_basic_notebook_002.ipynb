{
 "cells": [
  {
   "cell_type": "markdown",
   "metadata": {},
   "source": [
    "# pyOpenCGA Basic User Usage\n",
    "\n",
    "------\n",
    "\n",
    "\n",
    "**[NOTE]** The server methods used by pyopencga client are defined in the following swagger URL:\n",
    "- http://bioinfodev.hpc.cam.ac.uk/opencga-test/webservices\n"
   ]
  },
  {
   "cell_type": "code",
   "execution_count": 1,
   "metadata": {},
   "outputs": [
    {
     "name": "stdout",
     "output_type": "stream",
     "text": [
      "current_dir: ..../notebooks\n",
      "base_modules_dir: ..../pyOpenCGA\n"
     ]
    }
   ],
   "source": [
    "# Initialize PYTHONPATH for pyopencga\n",
    "import sys\n",
    "import os\n",
    "\n",
    "cwd = os.getcwd()\n",
    "print(\"current_dir: ....\"+cwd[-10:])\n",
    "\n",
    "base_modules_dir = os.path.dirname(cwd)\n",
    "print(\"base_modules_dir: ....\"+base_modules_dir[-10:])\n",
    "\n",
    "sys.path.append(base_modules_dir)"
   ]
  },
  {
   "cell_type": "code",
   "execution_count": 2,
   "metadata": {},
   "outputs": [],
   "source": [
    "from pyopencga.opencga_config import ConfigClient\n",
    "from pyopencga.opencga_client import OpenCGAClient\n",
    "import json"
   ]
  },
  {
   "cell_type": "markdown",
   "metadata": {},
   "source": [
    "**Credentials** \n",
    "\n",
    "Plese add the credentials for opencga login into a file in json format and read them from there.\n",
    "\n",
    "i.e:\n",
    "file: \\__user_config.json\n",
    "flie_content: {\"user\":\"xxx\",\"pwd\":\"yyy\"}"
   ]
  },
  {
   "cell_type": "code",
   "execution_count": 3,
   "metadata": {},
   "outputs": [
    {
     "name": "stdout",
     "output_type": "stream",
     "text": [
      "User: caf***\n"
     ]
    }
   ],
   "source": [
    "## Reading user config/credentials to connect to server\n",
    "user_config_json = \"./__user_config.json\"\n",
    "with open(user_config_json,\"r\") as f:\n",
    "    user_credentials = json.loads(f.read())\n",
    "    \n",
    "print('User: {}***'.format(user_credentials[\"user\"][:3]))"
   ]
  },
  {
   "cell_type": "code",
   "execution_count": 4,
   "metadata": {},
   "outputs": [],
   "source": [
    "user = user_credentials[\"user\"]\n",
    "passwd = user_credentials[\"pwd\"]"
   ]
  },
  {
   "cell_type": "code",
   "execution_count": 5,
   "metadata": {},
   "outputs": [
    {
     "name": "stdout",
     "output_type": "stream",
     "text": [
      "Config information:\n",
      " {'version': 'v1', 'rest': {'hosts': ['http://bioinfodev.hpc.cam.ac.uk/opencga-test']}}\n"
     ]
    }
   ],
   "source": [
    "## Creating ConfigClient\n",
    "host = 'http://bioinfodev.hpc.cam.ac.uk/opencga-test'\n",
    "cc = ConfigClient()\n",
    "config_dict = cc.get_basic_config_dict(host)\n",
    "print(\"Config information:\\n\",config_dict)"
   ]
  },
  {
   "cell_type": "code",
   "execution_count": 6,
   "metadata": {},
   "outputs": [
    {
     "name": "stdout",
     "output_type": "stream",
     "text": [
      "#[DEBUGGING]: Adding methods to class User\n",
      "#[DEBUGGING]: Adding methods to class User\n",
      "#[DEBUGGING]: Adding methods to class User\n"
     ]
    }
   ],
   "source": [
    "oc = OpenCGAClient(configuration=config_dict, \n",
    "                   user=user, \n",
    "                   pwd=passwd)"
   ]
  },
  {
   "cell_type": "code",
   "execution_count": 7,
   "metadata": {},
   "outputs": [
    {
     "name": "stdout",
     "output_type": "stream",
     "text": [
      "Session token:\n",
      "eyJhbGciOi...\n"
     ]
    }
   ],
   "source": [
    "## Getting the session id / token\n",
    "token = oc.session_id\n",
    "print(\"Session token:\\n{}...\".format(token[:10]))"
   ]
  },
  {
   "cell_type": "code",
   "execution_count": 8,
   "metadata": {},
   "outputs": [
    {
     "name": "stdout",
     "output_type": "stream",
     "text": [
      "#[DEBUGGING]: Adding methods to class User\n",
      "#[DEBUGGING]: Adding methods to class User\n",
      "#[DEBUGGING]: Adding methods to class User\n"
     ]
    }
   ],
   "source": [
    "oc = OpenCGAClient(configuration=config_dict, \n",
    "                   session_id=token)"
   ]
  },
  {
   "cell_type": "markdown",
   "metadata": {},
   "source": [
    "## Working with Users"
   ]
  },
  {
   "cell_type": "code",
   "execution_count": 9,
   "metadata": {},
   "outputs": [
    {
     "name": "stdout",
     "output_type": "stream",
     "text": [
      "['__class__', '__delattr__', '__dict__', '__dir__', '__doc__', '__eq__', '__format__', '__ge__', '__getattribute__', '__gt__', '__hash__', '__init__', '__init_subclass__', '__le__', '__lt__', '__module__', '__ne__', '__new__', '__reduce__', '__reduce_ex__', '__repr__', '__setattr__', '__sizeof__', '__str__', '__subclasshook__', '__weakref__', '_category', '_cfg', '_client_login_handler', '_delete', '_get', '_get_query_id_str', '_post', '_refresh_token_client', '_rest_retry', 'add_config', 'add_filter', 'auto_refresh', 'change_password', 'create', 'delete', 'get_configs', 'get_filters', 'get_projects', 'info', 'login', 'login_handler', 'logout', 'on_retry', 'refresh_token', 'remove_config', 'remove_filter', 'session_id', 'update', 'update_filter']\n"
     ]
    }
   ],
   "source": [
    "user_client = oc.users\n",
    "print(dir(user_client))"
   ]
  },
  {
   "cell_type": "code",
   "execution_count": 10,
   "metadata": {},
   "outputs": [
    {
     "data": {
      "text/plain": [
       "[[{'id': 'cafetero',\n",
       "   'name': 'Juan Valdés',\n",
       "   'email': 'cafetero@cafe.rico.es',\n",
       "   'organization': '',\n",
       "   'account': {'type': 'full',\n",
       "    'creationDate': '20180918141732',\n",
       "    'expirationDate': '20190918141732',\n",
       "    'authOrigin': 'internal'},\n",
       "   'status': {'name': 'READY', 'date': '20180918141732', 'message': ''},\n",
       "   'lastModified': '20190221155441344',\n",
       "   'size': -1,\n",
       "   'quota': 200000,\n",
       "   'projects': [{'id': 'GRCH37',\n",
       "     'name': 'GRCH37',\n",
       "     'uuid': '7Q5e4QFlAAEAAQ7Nii5FVA',\n",
       "     'fqn': 'cafetero@GRCH37',\n",
       "     'creationDate': '20180918142106',\n",
       "     'description': '',\n",
       "     'organization': '',\n",
       "     'organism': {'scientificName': 'Homo Sapiens',\n",
       "      'commonName': 'grch37',\n",
       "      'taxonomyCode': 0,\n",
       "      'assembly': 'grch37'},\n",
       "     'currentRelease': 1,\n",
       "     'status': {'name': 'READY', 'date': '20180918142106', 'message': ''},\n",
       "     'size': 0,\n",
       "     'studies': [{'id': 'platinum',\n",
       "       'name': 'Platinum',\n",
       "       'uuid': '7REdkAFlAAIAAVnBP_uPGg',\n",
       "       'type': 'CASE_CONTROL',\n",
       "       'creationDate': '20180918142406',\n",
       "       'modificationDate': '20180918142406',\n",
       "       'description': '',\n",
       "       'status': {'name': 'READY', 'date': '20180918142406', 'message': ''},\n",
       "       'lastModified': '20180918142406',\n",
       "       'size': 0,\n",
       "       'cipher': 'none',\n",
       "       'fqn': 'cafetero@GRCH37:platinum',\n",
       "       'groups': [{'id': '@members',\n",
       "         'name': 'members',\n",
       "         'userIds': ['test2', 'test3', 'test4', 'test1', 'cafetero']},\n",
       "        {'id': '@admins', 'name': 'admins', 'userIds': []}],\n",
       "       'experiments': [],\n",
       "       'files': [],\n",
       "       'jobs': [],\n",
       "       'individuals': [],\n",
       "       'samples': [],\n",
       "       'datasets': [],\n",
       "       'cohorts': [],\n",
       "       'panels': [],\n",
       "       'permissionRules': {},\n",
       "       'uri': 'file:///mnt/data/opencga-test/sessions/users/cafetero/projects/1/2/',\n",
       "       'release': 1,\n",
       "       'dataStores': {},\n",
       "       'stats': {},\n",
       "       'attributes': {}},\n",
       "      {'id': 'GNOMAD_EXOMES',\n",
       "       'name': 'GenomAD Exomes',\n",
       "       'uuid': '7RFu4AFlAAIAAZSS4XjzBA',\n",
       "       'type': 'CASE_CONTROL',\n",
       "       'creationDate': '20180918142427',\n",
       "       'modificationDate': '20180918142427',\n",
       "       'description': '',\n",
       "       'status': {'name': 'READY', 'date': '20180918142427', 'message': ''},\n",
       "       'lastModified': '20180918142427',\n",
       "       'size': 0,\n",
       "       'cipher': 'none',\n",
       "       'fqn': 'cafetero@GRCH37:GNOMAD_EXOMES',\n",
       "       'groups': [{'id': '@members',\n",
       "         'name': 'members',\n",
       "         'userIds': ['test2', 'test4']},\n",
       "        {'id': '@admins', 'name': 'admins', 'userIds': []}],\n",
       "       'experiments': [],\n",
       "       'files': [],\n",
       "       'jobs': [],\n",
       "       'individuals': [],\n",
       "       'samples': [],\n",
       "       'datasets': [],\n",
       "       'cohorts': [],\n",
       "       'panels': [],\n",
       "       'permissionRules': {},\n",
       "       'uri': 'file:///mnt/data/opencga-test/sessions/users/cafetero/projects/1/4/',\n",
       "       'release': 1,\n",
       "       'dataStores': {},\n",
       "       'stats': {},\n",
       "       'attributes': {}}],\n",
       "     'dataStores': {},\n",
       "     'attributes': {}}],\n",
       "   'tools': [],\n",
       "   'configs': {'filters': [{'name': 'Indels',\n",
       "      'description': 'Fetch all INDEL variants',\n",
       "      'bioformat': 'VARIANT',\n",
       "      'query': {'studies': 'cafetero@GRCH37:platinum', 'type': 'INDEL'},\n",
       "      'options': {}}]},\n",
       "   'attributes': {}}]]"
      ]
     },
     "execution_count": 10,
     "metadata": {},
     "output_type": "execute_result"
    }
   ],
   "source": [
    "## getting user information\n",
    "## [NOTE] User needs the quey_id string directly --> (user)\n",
    "user_client.info(user)"
   ]
  },
  {
   "cell_type": "code",
   "execution_count": 11,
   "metadata": {},
   "outputs": [
    {
     "data": {
      "text/plain": [
       "[[{'id': 'GRCH37',\n",
       "   'name': 'GRCH37',\n",
       "   'uuid': '7Q5e4QFlAAEAAQ7Nii5FVA',\n",
       "   'fqn': 'cafetero@GRCH37',\n",
       "   'creationDate': '20180918142106',\n",
       "   'description': '',\n",
       "   'organization': '',\n",
       "   'organism': {'scientificName': 'Homo Sapiens',\n",
       "    'commonName': 'grch37',\n",
       "    'taxonomyCode': 0,\n",
       "    'assembly': 'grch37'},\n",
       "   'currentRelease': 1,\n",
       "   'status': {'name': 'READY', 'date': '20180918142106', 'message': ''},\n",
       "   'size': 0,\n",
       "   'studies': [{'id': 'platinum',\n",
       "     'name': 'Platinum',\n",
       "     'uuid': '7REdkAFlAAIAAVnBP_uPGg',\n",
       "     'type': 'CASE_CONTROL',\n",
       "     'creationDate': '20180918142406',\n",
       "     'modificationDate': '20180918142406',\n",
       "     'description': '',\n",
       "     'status': {'name': 'READY', 'date': '20180918142406', 'message': ''},\n",
       "     'lastModified': '20180918142406',\n",
       "     'size': 0,\n",
       "     'cipher': 'none',\n",
       "     'fqn': 'cafetero@GRCH37:platinum',\n",
       "     'groups': [{'id': '@members',\n",
       "       'name': 'members',\n",
       "       'userIds': ['test2', 'test3', 'test4', 'test1', 'cafetero']},\n",
       "      {'id': '@admins', 'name': 'admins', 'userIds': []}],\n",
       "     'experiments': [],\n",
       "     'files': [],\n",
       "     'jobs': [],\n",
       "     'individuals': [],\n",
       "     'samples': [],\n",
       "     'datasets': [],\n",
       "     'cohorts': [],\n",
       "     'panels': [],\n",
       "     'variableSets': [],\n",
       "     'permissionRules': {},\n",
       "     'uri': 'file:///mnt/data/opencga-test/sessions/users/cafetero/projects/1/2/',\n",
       "     'release': 1,\n",
       "     'dataStores': {},\n",
       "     'stats': {},\n",
       "     'attributes': {}},\n",
       "    {'id': 'GNOMAD_EXOMES',\n",
       "     'name': 'GenomAD Exomes',\n",
       "     'uuid': '7RFu4AFlAAIAAZSS4XjzBA',\n",
       "     'type': 'CASE_CONTROL',\n",
       "     'creationDate': '20180918142427',\n",
       "     'modificationDate': '20180918142427',\n",
       "     'description': '',\n",
       "     'status': {'name': 'READY', 'date': '20180918142427', 'message': ''},\n",
       "     'lastModified': '20180918142427',\n",
       "     'size': 0,\n",
       "     'cipher': 'none',\n",
       "     'fqn': 'cafetero@GRCH37:GNOMAD_EXOMES',\n",
       "     'groups': [{'id': '@members',\n",
       "       'name': 'members',\n",
       "       'userIds': ['test2', 'test4']},\n",
       "      {'id': '@admins', 'name': 'admins', 'userIds': []}],\n",
       "     'experiments': [],\n",
       "     'files': [],\n",
       "     'jobs': [],\n",
       "     'individuals': [],\n",
       "     'samples': [],\n",
       "     'datasets': [],\n",
       "     'cohorts': [],\n",
       "     'panels': [],\n",
       "     'variableSets': [],\n",
       "     'permissionRules': {},\n",
       "     'uri': 'file:///mnt/data/opencga-test/sessions/users/cafetero/projects/1/4/',\n",
       "     'release': 1,\n",
       "     'dataStores': {},\n",
       "     'stats': {},\n",
       "     'attributes': {}}],\n",
       "   'dataStores': {},\n",
       "   'attributes': {}}]]"
      ]
     },
     "execution_count": 11,
     "metadata": {},
     "output_type": "execute_result"
    }
   ],
   "source": [
    "## Getting user projects\n",
    "## [NOTE] Client specific methods have the query_id as a key:value (i.e (user=user_id)) \n",
    "user_client.get_projects(user=user)"
   ]
  },
  {
   "cell_type": "code",
   "execution_count": 12,
   "metadata": {},
   "outputs": [
    {
     "data": {
      "text/plain": [
       "[[{}]]"
      ]
     },
     "execution_count": 12,
     "metadata": {},
     "output_type": "execute_result"
    }
   ],
   "source": [
    "## Getting user configurations\n",
    "## [NOTE] Client specific methods have the query_id as a key:value (i.e (user=user_id)) \n",
    "user_client.get_configs(user=user)"
   ]
  },
  {
   "cell_type": "code",
   "execution_count": 13,
   "metadata": {},
   "outputs": [
    {
     "data": {
      "text/plain": [
       "[[{'name': 'Indels',\n",
       "   'description': 'Fetch all INDEL variants',\n",
       "   'bioformat': 'VARIANT',\n",
       "   'query': {'studies': 'cafetero@GRCH37:platinum', 'type': 'INDEL'},\n",
       "   'options': {}}]]"
      ]
     },
     "execution_count": 13,
     "metadata": {},
     "output_type": "execute_result"
    }
   ],
   "source": [
    "## Getting user filter configurations\n",
    "## [NOTE] Client specific methods have the query_id as a key:value (i.e (user=user_id)) \n",
    "user_client.get_filters(user=user)"
   ]
  },
  {
   "cell_type": "markdown",
   "metadata": {},
   "source": [
    "## Working with Projects"
   ]
  },
  {
   "cell_type": "code",
   "execution_count": 14,
   "metadata": {},
   "outputs": [
    {
     "name": "stdout",
     "output_type": "stream",
     "text": [
      "['__class__', '__delattr__', '__dict__', '__dir__', '__doc__', '__eq__', '__format__', '__ge__', '__getattribute__', '__gt__', '__hash__', '__init__', '__init_subclass__', '__le__', '__lt__', '__module__', '__ne__', '__new__', '__reduce__', '__reduce_ex__', '__repr__', '__setattr__', '__sizeof__', '__str__', '__subclasshook__', '__weakref__', '_category', '_cfg', '_client_login_handler', '_delete', '_get', '_get_query_id_str', '_post', '_refresh_token_client', '_rest_retry', 'auto_refresh', 'create', 'delete', 'get_stats', 'get_studies', 'increment_release_number', 'info', 'login_handler', 'on_retry', 'search', 'session_id', 'update']\n"
     ]
    }
   ],
   "source": [
    "project_client = oc.projects\n",
    "print(dir(oc.projects))"
   ]
  },
  {
   "cell_type": "code",
   "execution_count": 15,
   "metadata": {},
   "outputs": [
    {
     "data": {
      "text/plain": [
       "[[{'id': 'GRCH37',\n",
       "   'name': 'GRCH37',\n",
       "   'uuid': '7Q5e4QFlAAEAAQ7Nii5FVA',\n",
       "   'fqn': 'cafetero@GRCH37',\n",
       "   'creationDate': '20180918142106',\n",
       "   'description': '',\n",
       "   'organization': '',\n",
       "   'organism': {'scientificName': 'Homo Sapiens',\n",
       "    'commonName': 'grch37',\n",
       "    'taxonomyCode': 0,\n",
       "    'assembly': 'grch37'},\n",
       "   'currentRelease': 1,\n",
       "   'status': {'name': 'READY', 'date': '20180918142106', 'message': ''},\n",
       "   'size': 0,\n",
       "   'studies': [{'id': 'platinum',\n",
       "     'name': 'Platinum',\n",
       "     'uuid': '7REdkAFlAAIAAVnBP_uPGg',\n",
       "     'type': 'CASE_CONTROL',\n",
       "     'creationDate': '20180918142406',\n",
       "     'modificationDate': '20180918142406',\n",
       "     'description': '',\n",
       "     'status': {'name': 'READY', 'date': '20180918142406', 'message': ''},\n",
       "     'lastModified': '20180918142406',\n",
       "     'size': 0,\n",
       "     'cipher': 'none',\n",
       "     'fqn': 'cafetero@GRCH37:platinum',\n",
       "     'groups': [{'id': '@members',\n",
       "       'name': 'members',\n",
       "       'userIds': ['test2', 'test3', 'test4', 'test1', 'cafetero']},\n",
       "      {'id': '@admins', 'name': 'admins', 'userIds': []}],\n",
       "     'experiments': [],\n",
       "     'files': [],\n",
       "     'jobs': [],\n",
       "     'individuals': [],\n",
       "     'samples': [],\n",
       "     'datasets': [],\n",
       "     'cohorts': [],\n",
       "     'panels': [],\n",
       "     'variableSets': [],\n",
       "     'permissionRules': {},\n",
       "     'uri': 'file:///mnt/data/opencga-test/sessions/users/cafetero/projects/1/2/',\n",
       "     'release': 1,\n",
       "     'dataStores': {},\n",
       "     'stats': {},\n",
       "     'attributes': {}},\n",
       "    {'id': 'GNOMAD_EXOMES',\n",
       "     'name': 'GenomAD Exomes',\n",
       "     'uuid': '7RFu4AFlAAIAAZSS4XjzBA',\n",
       "     'type': 'CASE_CONTROL',\n",
       "     'creationDate': '20180918142427',\n",
       "     'modificationDate': '20180918142427',\n",
       "     'description': '',\n",
       "     'status': {'name': 'READY', 'date': '20180918142427', 'message': ''},\n",
       "     'lastModified': '20180918142427',\n",
       "     'size': 0,\n",
       "     'cipher': 'none',\n",
       "     'fqn': 'cafetero@GRCH37:GNOMAD_EXOMES',\n",
       "     'groups': [{'id': '@members',\n",
       "       'name': 'members',\n",
       "       'userIds': ['test2', 'test4']},\n",
       "      {'id': '@admins', 'name': 'admins', 'userIds': []}],\n",
       "     'experiments': [],\n",
       "     'files': [],\n",
       "     'jobs': [],\n",
       "     'individuals': [],\n",
       "     'samples': [],\n",
       "     'datasets': [],\n",
       "     'cohorts': [],\n",
       "     'panels': [],\n",
       "     'variableSets': [],\n",
       "     'permissionRules': {},\n",
       "     'uri': 'file:///mnt/data/opencga-test/sessions/users/cafetero/projects/1/4/',\n",
       "     'release': 1,\n",
       "     'dataStores': {},\n",
       "     'stats': {},\n",
       "     'attributes': {}}],\n",
       "   'dataStores': {},\n",
       "   'attributes': {}}]]"
      ]
     },
     "execution_count": 15,
     "metadata": {},
     "output_type": "execute_result"
    }
   ],
   "source": [
    "## Getting all projects from logged user\n",
    "project_client.search()"
   ]
  },
  {
   "cell_type": "code",
   "execution_count": 16,
   "metadata": {},
   "outputs": [
    {
     "data": {
      "text/plain": [
       "[[{'id': 'GRCH37',\n",
       "   'name': 'GRCH37',\n",
       "   'uuid': '7Q5e4QFlAAEAAQ7Nii5FVA',\n",
       "   'fqn': 'cafetero@GRCH37',\n",
       "   'creationDate': '20180918142106',\n",
       "   'description': '',\n",
       "   'organization': '',\n",
       "   'organism': {'scientificName': 'Homo Sapiens',\n",
       "    'commonName': 'grch37',\n",
       "    'taxonomyCode': 0,\n",
       "    'assembly': 'grch37'},\n",
       "   'currentRelease': 1,\n",
       "   'status': {'name': 'READY', 'date': '20180918142106', 'message': ''},\n",
       "   'size': 0,\n",
       "   'studies': [{'id': 'platinum',\n",
       "     'name': 'Platinum',\n",
       "     'uuid': '7REdkAFlAAIAAVnBP_uPGg',\n",
       "     'type': 'CASE_CONTROL',\n",
       "     'creationDate': '20180918142406',\n",
       "     'modificationDate': '20180918142406',\n",
       "     'description': '',\n",
       "     'status': {'name': 'READY', 'date': '20180918142406', 'message': ''},\n",
       "     'lastModified': '20180918142406',\n",
       "     'size': 0,\n",
       "     'cipher': 'none',\n",
       "     'fqn': 'cafetero@GRCH37:platinum',\n",
       "     'groups': [{'id': '@members',\n",
       "       'name': 'members',\n",
       "       'userIds': ['test2', 'test3', 'test4', 'test1', 'cafetero']},\n",
       "      {'id': '@admins', 'name': 'admins', 'userIds': []}],\n",
       "     'experiments': [],\n",
       "     'files': [],\n",
       "     'jobs': [],\n",
       "     'individuals': [],\n",
       "     'samples': [],\n",
       "     'datasets': [],\n",
       "     'cohorts': [],\n",
       "     'panels': [],\n",
       "     'variableSets': [],\n",
       "     'permissionRules': {},\n",
       "     'uri': 'file:///mnt/data/opencga-test/sessions/users/cafetero/projects/1/2/',\n",
       "     'release': 1,\n",
       "     'dataStores': {},\n",
       "     'stats': {},\n",
       "     'attributes': {}},\n",
       "    {'id': 'GNOMAD_EXOMES',\n",
       "     'name': 'GenomAD Exomes',\n",
       "     'uuid': '7RFu4AFlAAIAAZSS4XjzBA',\n",
       "     'type': 'CASE_CONTROL',\n",
       "     'creationDate': '20180918142427',\n",
       "     'modificationDate': '20180918142427',\n",
       "     'description': '',\n",
       "     'status': {'name': 'READY', 'date': '20180918142427', 'message': ''},\n",
       "     'lastModified': '20180918142427',\n",
       "     'size': 0,\n",
       "     'cipher': 'none',\n",
       "     'fqn': 'cafetero@GRCH37:GNOMAD_EXOMES',\n",
       "     'groups': [{'id': '@members',\n",
       "       'name': 'members',\n",
       "       'userIds': ['test2', 'test4']},\n",
       "      {'id': '@admins', 'name': 'admins', 'userIds': []}],\n",
       "     'experiments': [],\n",
       "     'files': [],\n",
       "     'jobs': [],\n",
       "     'individuals': [],\n",
       "     'samples': [],\n",
       "     'datasets': [],\n",
       "     'cohorts': [],\n",
       "     'panels': [],\n",
       "     'variableSets': [],\n",
       "     'permissionRules': {},\n",
       "     'uri': 'file:///mnt/data/opencga-test/sessions/users/cafetero/projects/1/4/',\n",
       "     'release': 1,\n",
       "     'dataStores': {},\n",
       "     'stats': {},\n",
       "     'attributes': {}}],\n",
       "   'dataStores': {},\n",
       "   'attributes': {}}]]"
      ]
     },
     "execution_count": 16,
     "metadata": {},
     "output_type": "execute_result"
    }
   ],
   "source": [
    "## Getting information from a specific project\n",
    "project_client.info('GRCH37')"
   ]
  },
  {
   "cell_type": "code",
   "execution_count": 17,
   "metadata": {},
   "outputs": [
    {
     "data": {
      "text/plain": [
       "[[{'id': 'platinum',\n",
       "   'name': 'Platinum',\n",
       "   'uuid': '7REdkAFlAAIAAVnBP_uPGg',\n",
       "   'type': 'CASE_CONTROL',\n",
       "   'creationDate': '20180918142406',\n",
       "   'modificationDate': '20180918142406',\n",
       "   'description': '',\n",
       "   'status': {'name': 'READY', 'date': '20180918142406', 'message': ''},\n",
       "   'lastModified': '20180918142406',\n",
       "   'size': 0,\n",
       "   'cipher': 'none',\n",
       "   'fqn': 'cafetero@GRCH37:platinum',\n",
       "   'groups': [{'id': '@members',\n",
       "     'name': 'members',\n",
       "     'userIds': ['test2', 'test3', 'test4', 'test1', 'cafetero']},\n",
       "    {'id': '@admins', 'name': 'admins', 'userIds': []}],\n",
       "   'experiments': [],\n",
       "   'files': [],\n",
       "   'jobs': [],\n",
       "   'individuals': [],\n",
       "   'samples': [],\n",
       "   'datasets': [],\n",
       "   'cohorts': [],\n",
       "   'panels': [],\n",
       "   'variableSets': [],\n",
       "   'permissionRules': {},\n",
       "   'uri': 'file:///mnt/data/opencga-test/sessions/users/cafetero/projects/1/2/',\n",
       "   'release': 1,\n",
       "   'dataStores': {},\n",
       "   'stats': {},\n",
       "   'attributes': {}},\n",
       "  {'id': 'GNOMAD_EXOMES',\n",
       "   'name': 'GenomAD Exomes',\n",
       "   'uuid': '7RFu4AFlAAIAAZSS4XjzBA',\n",
       "   'type': 'CASE_CONTROL',\n",
       "   'creationDate': '20180918142427',\n",
       "   'modificationDate': '20180918142427',\n",
       "   'description': '',\n",
       "   'status': {'name': 'READY', 'date': '20180918142427', 'message': ''},\n",
       "   'lastModified': '20180918142427',\n",
       "   'size': 0,\n",
       "   'cipher': 'none',\n",
       "   'fqn': 'cafetero@GRCH37:GNOMAD_EXOMES',\n",
       "   'groups': [{'id': '@members',\n",
       "     'name': 'members',\n",
       "     'userIds': ['test2', 'test4']},\n",
       "    {'id': '@admins', 'name': 'admins', 'userIds': []}],\n",
       "   'experiments': [],\n",
       "   'files': [],\n",
       "   'jobs': [],\n",
       "   'individuals': [],\n",
       "   'samples': [],\n",
       "   'datasets': [],\n",
       "   'cohorts': [],\n",
       "   'panels': [],\n",
       "   'variableSets': [],\n",
       "   'permissionRules': {},\n",
       "   'uri': 'file:///mnt/data/opencga-test/sessions/users/cafetero/projects/1/4/',\n",
       "   'release': 1,\n",
       "   'dataStores': {},\n",
       "   'stats': {},\n",
       "   'attributes': {}}]]"
      ]
     },
     "execution_count": 17,
     "metadata": {},
     "output_type": "execute_result"
    }
   ],
   "source": [
    "## Fetching the studies from a project\n",
    "project_client.get_studies('GRCH37')"
   ]
  },
  {
   "cell_type": "code",
   "execution_count": 18,
   "metadata": {},
   "outputs": [
    {
     "ename": "Exception",
     "evalue": "b'{\"apiVersion\":\"v1\",\"time\":374,\"warning\":\"\",\"error\":\"Solr server is not alive\",\"queryOptions\":{\"metadata\":true,\"skipCount\":true,\"skip\":0,\"limit\":1000},\"response\":[{\"id\":\"\",\"dbTime\":-1,\"numResults\":-1,\"numTotalResults\":-1,\"warningMsg\":\"Future errors will ONLY be shown in the QueryResponse body\",\"errorMsg\":\"DEPRECATED: org.apache.solr.common.SolrException: Solr server is not alive\",\"resultType\":\"\",\"result\":[]}]}'",
     "output_type": "error",
     "traceback": [
      "\u001b[0;31m---------------------------------------------------------------------------\u001b[0m",
      "\u001b[0;31mException\u001b[0m                                 Traceback (most recent call last)",
      "\u001b[0;32m<ipython-input-18-936b81bc5825>\u001b[0m in \u001b[0;36m<module>\u001b[0;34m()\u001b[0m\n\u001b[1;32m      1\u001b[0m \u001b[0;31m## Getting stats from a project --> It seems that the Solr service is not working!!!\u001b[0m\u001b[0;34m\u001b[0m\u001b[0;34m\u001b[0m\u001b[0m\n\u001b[0;32m----> 2\u001b[0;31m \u001b[0mproject_client\u001b[0m\u001b[0;34m.\u001b[0m\u001b[0mget_stats\u001b[0m\u001b[0;34m(\u001b[0m\u001b[0mproject\u001b[0m\u001b[0;34m=\u001b[0m\u001b[0;34m'GRCH37'\u001b[0m\u001b[0;34m)\u001b[0m\u001b[0;34m\u001b[0m\u001b[0m\n\u001b[0m",
      "\u001b[0;32m/DATA/DATA_docker/projects_software/opencb/opencga/opencga-fork_pyclient-mgviz_branch/opencga-client/src/main/python/pyOpenCGA/pyopencga/rest_clients/project_client.py\u001b[0m in \u001b[0;36mget_stats\u001b[0;34m(self, project, **options)\u001b[0m\n\u001b[1;32m     54\u001b[0m             \u001b[0me\u001b[0m\u001b[0;34m.\u001b[0m\u001b[0mg\u001b[0m\u001b[0;34m.\u001b[0m\u001b[0;34m:\u001b[0m \u001b[0mstudies\u001b[0m\u001b[0;34m;\u001b[0m\u001b[0mtype\u001b[0m\u001b[0;34m.\u001b[0m \u001b[0mFor\u001b[0m \u001b[0mnested\u001b[0m \u001b[0mfields\u001b[0m \u001b[0muse\u001b[0m \u001b[0;34m>>\u001b[0m\u001b[0;34m,\u001b[0m \u001b[0me\u001b[0m\u001b[0;34m.\u001b[0m\u001b[0mg\u001b[0m\u001b[0;34m.\u001b[0m\u001b[0;34m:\u001b[0m \u001b[0mstudies\u001b[0m\u001b[0;34m>>\u001b[0m\u001b[0mbiotype\u001b[0m\u001b[0;34m;\u001b[0m\u001b[0mtype\u001b[0m\u001b[0;34m\u001b[0m\u001b[0m\n\u001b[1;32m     55\u001b[0m         \"\"\"\n\u001b[0;32m---> 56\u001b[0;31m         \u001b[0;32mreturn\u001b[0m \u001b[0mself\u001b[0m\u001b[0;34m.\u001b[0m\u001b[0m_get\u001b[0m\u001b[0;34m(\u001b[0m\u001b[0;34m'stats'\u001b[0m\u001b[0;34m,\u001b[0m \u001b[0mquery_id\u001b[0m\u001b[0;34m=\u001b[0m\u001b[0mproject\u001b[0m\u001b[0;34m,\u001b[0m \u001b[0;34m**\u001b[0m\u001b[0moptions\u001b[0m\u001b[0;34m)\u001b[0m\u001b[0;34m\u001b[0m\u001b[0m\n\u001b[0m\u001b[1;32m     57\u001b[0m \u001b[0;34m\u001b[0m\u001b[0m\n\u001b[1;32m     58\u001b[0m     \u001b[0;32mdef\u001b[0m \u001b[0mget_studies\u001b[0m\u001b[0;34m(\u001b[0m\u001b[0mself\u001b[0m\u001b[0;34m,\u001b[0m \u001b[0mproject\u001b[0m\u001b[0;34m,\u001b[0m \u001b[0;34m**\u001b[0m\u001b[0moptions\u001b[0m\u001b[0;34m)\u001b[0m\u001b[0;34m:\u001b[0m\u001b[0;34m\u001b[0m\u001b[0m\n",
      "\u001b[0;32m/DATA/DATA_docker/projects_software/opencb/opencga/opencga-fork_pyclient-mgviz_branch/opencga-client/src/main/python/pyOpenCGA/pyopencga/rest_clients/_parent_rest_clients.py\u001b[0m in \u001b[0;36m_get\u001b[0;34m(self, resource, query_id, subcategory, second_query_id, **options)\u001b[0m\n\u001b[1;32m     74\u001b[0m     \u001b[0;32mdef\u001b[0m \u001b[0m_get\u001b[0m\u001b[0;34m(\u001b[0m\u001b[0mself\u001b[0m\u001b[0;34m,\u001b[0m \u001b[0mresource\u001b[0m\u001b[0;34m,\u001b[0m \u001b[0mquery_id\u001b[0m\u001b[0;34m=\u001b[0m\u001b[0;32mNone\u001b[0m\u001b[0;34m,\u001b[0m \u001b[0msubcategory\u001b[0m\u001b[0;34m=\u001b[0m\u001b[0;32mNone\u001b[0m\u001b[0;34m,\u001b[0m \u001b[0msecond_query_id\u001b[0m\u001b[0;34m=\u001b[0m\u001b[0;32mNone\u001b[0m\u001b[0;34m,\u001b[0m \u001b[0;34m**\u001b[0m\u001b[0moptions\u001b[0m\u001b[0;34m)\u001b[0m\u001b[0;34m:\u001b[0m\u001b[0;34m\u001b[0m\u001b[0m\n\u001b[1;32m     75\u001b[0m         \u001b[0;34m\"\"\"Queries the REST service and returns the result\"\"\"\u001b[0m\u001b[0;34m\u001b[0m\u001b[0m\n\u001b[0;32m---> 76\u001b[0;31m         \u001b[0;32mreturn\u001b[0m \u001b[0mself\u001b[0m\u001b[0;34m.\u001b[0m\u001b[0m_rest_retry\u001b[0m\u001b[0;34m(\u001b[0m\u001b[0;34m'get'\u001b[0m\u001b[0;34m,\u001b[0m \u001b[0mresource\u001b[0m\u001b[0;34m,\u001b[0m \u001b[0mquery_id\u001b[0m\u001b[0;34m,\u001b[0m \u001b[0msubcategory\u001b[0m\u001b[0;34m,\u001b[0m \u001b[0msecond_query_id\u001b[0m\u001b[0;34m,\u001b[0m \u001b[0;34m**\u001b[0m\u001b[0moptions\u001b[0m\u001b[0;34m)\u001b[0m\u001b[0;34m\u001b[0m\u001b[0m\n\u001b[0m\u001b[1;32m     77\u001b[0m \u001b[0;34m\u001b[0m\u001b[0m\n\u001b[1;32m     78\u001b[0m     \u001b[0;32mdef\u001b[0m \u001b[0m_post\u001b[0m\u001b[0;34m(\u001b[0m\u001b[0mself\u001b[0m\u001b[0;34m,\u001b[0m \u001b[0mresource\u001b[0m\u001b[0;34m,\u001b[0m \u001b[0mdata\u001b[0m\u001b[0;34m,\u001b[0m \u001b[0mquery_id\u001b[0m\u001b[0;34m=\u001b[0m\u001b[0;32mNone\u001b[0m\u001b[0;34m,\u001b[0m \u001b[0msubcategory\u001b[0m\u001b[0;34m=\u001b[0m\u001b[0;32mNone\u001b[0m\u001b[0;34m,\u001b[0m \u001b[0msecond_query_id\u001b[0m\u001b[0;34m=\u001b[0m\u001b[0;32mNone\u001b[0m\u001b[0;34m,\u001b[0m \u001b[0;34m**\u001b[0m\u001b[0moptions\u001b[0m\u001b[0;34m)\u001b[0m\u001b[0;34m:\u001b[0m\u001b[0;34m\u001b[0m\u001b[0m\n",
      "\u001b[0;32m/DATA/DATA_docker/projects_software/opencb/opencga/opencga-fork_pyclient-mgviz_branch/opencga-client/src/main/python/pyOpenCGA/pyopencga/rest_clients/_parent_rest_clients.py\u001b[0m in \u001b[0;36m_rest_retry\u001b[0;34m(self, method, resource, query_id, subcategory, second_query_id, data, dont_retry, **options)\u001b[0m\n\u001b[1;32m     66\u001b[0m             \u001b[0mexec_retry\u001b[0m\u001b[0;34m,\u001b[0m \u001b[0mself\u001b[0m\u001b[0;34m.\u001b[0m\u001b[0m_cfg\u001b[0m\u001b[0;34m.\u001b[0m\u001b[0mmax_attempts\u001b[0m\u001b[0;34m,\u001b[0m \u001b[0mself\u001b[0m\u001b[0;34m.\u001b[0m\u001b[0m_cfg\u001b[0m\u001b[0;34m.\u001b[0m\u001b[0mmin_retry_secs\u001b[0m\u001b[0;34m,\u001b[0m \u001b[0mself\u001b[0m\u001b[0;34m.\u001b[0m\u001b[0m_cfg\u001b[0m\u001b[0;34m.\u001b[0m\u001b[0mmax_retry_secs\u001b[0m\u001b[0;34m,\u001b[0m\u001b[0;34m\u001b[0m\u001b[0m\n\u001b[1;32m     67\u001b[0m             \u001b[0mlogin_handler\u001b[0m\u001b[0;34m=\u001b[0m\u001b[0mself\u001b[0m\u001b[0;34m.\u001b[0m\u001b[0m_client_login_handler\u001b[0m \u001b[0;32mif\u001b[0m \u001b[0mself\u001b[0m\u001b[0;34m.\u001b[0m\u001b[0mlogin_handler\u001b[0m \u001b[0;32melse\u001b[0m \u001b[0;32mNone\u001b[0m\u001b[0;34m,\u001b[0m\u001b[0;34m\u001b[0m\u001b[0m\n\u001b[0;32m---> 68\u001b[0;31m             on_retry=notify_retry, dont_retry=dont_retry)\n\u001b[0m\u001b[1;32m     69\u001b[0m \u001b[0;34m\u001b[0m\u001b[0m\n\u001b[1;32m     70\u001b[0m         \u001b[0;32mif\u001b[0m \u001b[0mself\u001b[0m\u001b[0;34m.\u001b[0m\u001b[0mauto_refresh\u001b[0m\u001b[0;34m:\u001b[0m\u001b[0;34m\u001b[0m\u001b[0m\n",
      "\u001b[0;32m/DATA/DATA_docker/projects_software/opencb/opencga/opencga-fork_pyclient-mgviz_branch/opencga-client/src/main/python/pyOpenCGA/pyopencga/retry.py\u001b[0m in \u001b[0;36mretry\u001b[0;34m(func, max_attempts, initial_retry_seconds, max_retry_seconds, login_handler, on_retry, dont_retry)\u001b[0m\n\u001b[1;32m     34\u001b[0m     \u001b[0;32mwhile\u001b[0m \u001b[0;32mTrue\u001b[0m\u001b[0;34m:\u001b[0m\u001b[0;34m\u001b[0m\u001b[0m\n\u001b[1;32m     35\u001b[0m         \u001b[0;32mtry\u001b[0m\u001b[0;34m:\u001b[0m\u001b[0;34m\u001b[0m\u001b[0m\n\u001b[0;32m---> 36\u001b[0;31m             \u001b[0;32mreturn\u001b[0m \u001b[0mfunc\u001b[0m\u001b[0;34m(\u001b[0m\u001b[0;34m)\u001b[0m\u001b[0;34m\u001b[0m\u001b[0m\n\u001b[0m\u001b[1;32m     37\u001b[0m         \u001b[0;32mexcept\u001b[0m \u001b[0mOpenCgaInvalidToken\u001b[0m \u001b[0;32mas\u001b[0m \u001b[0me\u001b[0m\u001b[0;34m:\u001b[0m\u001b[0;34m\u001b[0m\u001b[0m\n\u001b[1;32m     38\u001b[0m \u001b[0;34m\u001b[0m\u001b[0m\n",
      "\u001b[0;32m/DATA/DATA_docker/projects_software/opencb/opencga/opencga-fork_pyclient-mgviz_branch/opencga-client/src/main/python/pyOpenCGA/pyopencga/rest_clients/_parent_rest_clients.py\u001b[0m in \u001b[0;36mexec_retry\u001b[0;34m()\u001b[0m\n\u001b[1;32m     52\u001b[0m                            \u001b[0mresource\u001b[0m\u001b[0;34m=\u001b[0m\u001b[0mresource\u001b[0m\u001b[0;34m,\u001b[0m\u001b[0;34m\u001b[0m\u001b[0m\n\u001b[1;32m     53\u001b[0m                            \u001b[0mdata\u001b[0m\u001b[0;34m=\u001b[0m\u001b[0mdata\u001b[0m\u001b[0;34m,\u001b[0m\u001b[0;34m\u001b[0m\u001b[0m\n\u001b[0;32m---> 54\u001b[0;31m                            options=options)\n\u001b[0m\u001b[1;32m     55\u001b[0m \u001b[0;34m\u001b[0m\u001b[0m\n\u001b[1;32m     56\u001b[0m         \u001b[0;32mdef\u001b[0m \u001b[0mnotify_retry\u001b[0m\u001b[0;34m(\u001b[0m\u001b[0mexc_type\u001b[0m\u001b[0;34m,\u001b[0m \u001b[0mexc_val\u001b[0m\u001b[0;34m,\u001b[0m \u001b[0mexc_tb\u001b[0m\u001b[0;34m)\u001b[0m\u001b[0;34m:\u001b[0m\u001b[0;34m\u001b[0m\u001b[0m\n",
      "\u001b[0;32m/DATA/DATA_docker/projects_software/opencb/opencga/opencga-fork_pyclient-mgviz_branch/opencga-client/src/main/python/pyOpenCGA/pyopencga/commons.py\u001b[0m in \u001b[0;36mexecute\u001b[0;34m(host, version, sid, category, resource, method, subcategory, query_id, second_query_id, data, **options)\u001b[0m\n\u001b[1;32m    289\u001b[0m         response = _fetch(host=host, version=version, sid=sid, category=category, subcategory=subcategory,\n\u001b[1;32m    290\u001b[0m                           \u001b[0mresource\u001b[0m\u001b[0;34m=\u001b[0m\u001b[0mresource\u001b[0m\u001b[0;34m,\u001b[0m \u001b[0mmethod\u001b[0m\u001b[0;34m=\u001b[0m\u001b[0mmethod\u001b[0m\u001b[0;34m,\u001b[0m \u001b[0mdata\u001b[0m\u001b[0;34m=\u001b[0m\u001b[0mdata\u001b[0m\u001b[0;34m,\u001b[0m\u001b[0;34m\u001b[0m\u001b[0m\n\u001b[0;32m--> 291\u001b[0;31m                           query_id=query_id, second_query_id=second_query_id, **options)\n\u001b[0m\u001b[1;32m    292\u001b[0m         \u001b[0;32mreturn\u001b[0m \u001b[0mresponse\u001b[0m\u001b[0;34m\u001b[0m\u001b[0m\n\u001b[1;32m    293\u001b[0m     \u001b[0;32melse\u001b[0m\u001b[0;34m:\u001b[0m\u001b[0;34m\u001b[0m\u001b[0m\n",
      "\u001b[0;32m/DATA/DATA_docker/projects_software/opencb/opencga/opencga-fork_pyclient-mgviz_branch/opencga-client/src/main/python/pyOpenCGA/pyopencga/commons.py\u001b[0m in \u001b[0;36m_fetch\u001b[0;34m(host, version, sid, category, resource, method, subcategory, query_id, second_query_id, data, **options)\u001b[0m\n\u001b[1;32m    209\u001b[0m \u001b[0;34m\u001b[0m\u001b[0m\n\u001b[1;32m    210\u001b[0m         \u001b[0;32melif\u001b[0m \u001b[0mr\u001b[0m\u001b[0;34m.\u001b[0m\u001b[0mstatus_code\u001b[0m \u001b[0;34m!=\u001b[0m \u001b[0;36m200\u001b[0m\u001b[0;34m:\u001b[0m\u001b[0;34m\u001b[0m\u001b[0m\n\u001b[0;32m--> 211\u001b[0;31m             \u001b[0;32mraise\u001b[0m \u001b[0mException\u001b[0m\u001b[0;34m(\u001b[0m\u001b[0mr\u001b[0m\u001b[0;34m.\u001b[0m\u001b[0mcontent\u001b[0m\u001b[0;34m)\u001b[0m\u001b[0;34m\u001b[0m\u001b[0m\n\u001b[0m\u001b[1;32m    212\u001b[0m \u001b[0;34m\u001b[0m\u001b[0m\n\u001b[1;32m    213\u001b[0m         \u001b[0;32mtry\u001b[0m\u001b[0;34m:\u001b[0m\u001b[0;34m\u001b[0m\u001b[0m\n",
      "\u001b[0;31mException\u001b[0m: b'{\"apiVersion\":\"v1\",\"time\":374,\"warning\":\"\",\"error\":\"Solr server is not alive\",\"queryOptions\":{\"metadata\":true,\"skipCount\":true,\"skip\":0,\"limit\":1000},\"response\":[{\"id\":\"\",\"dbTime\":-1,\"numResults\":-1,\"numTotalResults\":-1,\"warningMsg\":\"Future errors will ONLY be shown in the QueryResponse body\",\"errorMsg\":\"DEPRECATED: org.apache.solr.common.SolrException: Solr server is not alive\",\"resultType\":\"\",\"result\":[]}]}'"
     ]
    }
   ],
   "source": [
    "## Getting stats from a project --> It seems that the Solr service is not working!!!\n",
    "project_client.get_stats(project='GRCH37')"
   ]
  },
  {
   "cell_type": "markdown",
   "metadata": {},
   "source": [
    "## Working with Studies"
   ]
  },
  {
   "cell_type": "code",
   "execution_count": 10,
   "metadata": {},
   "outputs": [
    {
     "name": "stdout",
     "output_type": "stream",
     "text": [
      "['__class__', '__delattr__', '__dict__', '__dir__', '__doc__', '__eq__', '__format__', '__ge__', '__getattribute__', '__gt__', '__hash__', '__init__', '__init_subclass__', '__le__', '__lt__', '__module__', '__ne__', '__new__', '__reduce__', '__reduce_ex__', '__repr__', '__setattr__', '__sizeof__', '__str__', '__subclasshook__', '__weakref__', '_category', '_cfg', '_client_login_handler', '_get', '_get_query_id_str', '_post', '_refresh_token_client', '_rest_retry', 'acl', 'acl_update', 'auto_refresh', 'create', 'create_groups', 'delete', 'get_groups', 'get_permission_rules', 'get_stats', 'get_variable_sets', 'info', 'login_handler', 'on_retry', 'resync_files', 'scan_files', 'search', 'session_id', 'update', 'update_groups', 'update_permission_rules', 'update_users_from_group', 'update_variable_from_variable_set', 'update_variable_sets']\n"
     ]
    }
   ],
   "source": [
    "study_client = oc.studies\n",
    "print(dir(study_client))"
   ]
  },
  {
   "cell_type": "code",
   "execution_count": 11,
   "metadata": {},
   "outputs": [
    {
     "data": {
      "text/plain": [
       "[[{'id': '@members',\n",
       "   'name': 'members',\n",
       "   'userIds': ['test2', 'test3', 'test4', 'test1', 'cafetero']},\n",
       "  {'id': '@admins', 'name': 'admins', 'userIds': []}]]"
      ]
     },
     "execution_count": 11,
     "metadata": {},
     "output_type": "execute_result"
    }
   ],
   "source": [
    "study_client.get_groups('platinum')"
   ]
  },
  {
   "cell_type": "code",
   "execution_count": 12,
   "metadata": {},
   "outputs": [
    {
     "data": {
      "text/plain": [
       "[[]]"
      ]
     },
     "execution_count": 12,
     "metadata": {},
     "output_type": "execute_result"
    }
   ],
   "source": [
    "study_client.get_permission_rules('platinum')"
   ]
  },
  {
   "cell_type": "code",
   "execution_count": 13,
   "metadata": {},
   "outputs": [
    {
     "data": {
      "text/plain": [
       "[[]]"
      ]
     },
     "execution_count": 13,
     "metadata": {},
     "output_type": "execute_result"
    }
   ],
   "source": [
    "study_client.get_variable_sets('platinum')"
   ]
  },
  {
   "cell_type": "code",
   "execution_count": 17,
   "metadata": {},
   "outputs": [
    {
     "ename": "TypeError",
     "evalue": "acl() takes 2 positional arguments but 3 were given",
     "output_type": "error",
     "traceback": [
      "\u001b[0;31m---------------------------------------------------------------------------\u001b[0m",
      "\u001b[0;31mTypeError\u001b[0m                                 Traceback (most recent call last)",
      "\u001b[0;32m<ipython-input-17-afd6942f4352>\u001b[0m in \u001b[0;36m<module>\u001b[0;34m()\u001b[0m\n\u001b[0;32m----> 1\u001b[0;31m \u001b[0mstudy_client\u001b[0m\u001b[0;34m.\u001b[0m\u001b[0macl\u001b[0m\u001b[0;34m(\u001b[0m\u001b[0;34m'platinum'\u001b[0m\u001b[0;34m,\u001b[0m \u001b[0;34m{\u001b[0m\u001b[0;34m'member'\u001b[0m\u001b[0;34m:\u001b[0m\u001b[0muser\u001b[0m\u001b[0;34m}\u001b[0m\u001b[0;34m)\u001b[0m\u001b[0;34m\u001b[0m\u001b[0m\n\u001b[0m",
      "\u001b[0;31mTypeError\u001b[0m: acl() takes 2 positional arguments but 3 were given"
     ]
    }
   ],
   "source": [
    "study_client.acl('platinum', {'member':user})"
   ]
  },
  {
   "cell_type": "code",
   "execution_count": 16,
   "metadata": {},
   "outputs": [
    {
     "name": "stdout",
     "output_type": "stream",
     "text": [
      "{'member': 'cafetero', 'project': 'pepito'}\n",
      "cafetero\n"
     ]
    },
    {
     "data": {
      "text/plain": [
       "[[]]"
      ]
     },
     "execution_count": 16,
     "metadata": {},
     "output_type": "execute_result"
    }
   ],
   "source": [
    "study_client.acl('platinum', member=user, project='pepito')"
   ]
  },
  {
   "cell_type": "code",
   "execution_count": 17,
   "metadata": {},
   "outputs": [
    {
     "ename": "TypeError",
     "evalue": "acl() takes 2 positional arguments but 3 were given",
     "output_type": "error",
     "traceback": [
      "\u001b[0;31m---------------------------------------------------------------------------\u001b[0m",
      "\u001b[0;31mTypeError\u001b[0m                                 Traceback (most recent call last)",
      "\u001b[0;32m<ipython-input-17-5885b75b2660>\u001b[0m in \u001b[0;36m<module>\u001b[0;34m()\u001b[0m\n\u001b[0;32m----> 1\u001b[0;31m \u001b[0mstudy_client\u001b[0m\u001b[0;34m.\u001b[0m\u001b[0macl\u001b[0m\u001b[0;34m(\u001b[0m\u001b[0;34m'platinum'\u001b[0m\u001b[0;34m,\u001b[0m \u001b[0mdict\u001b[0m\u001b[0;34m(\u001b[0m\u001b[0mmember\u001b[0m\u001b[0;34m=\u001b[0m\u001b[0muser\u001b[0m\u001b[0;34m)\u001b[0m\u001b[0;34m)\u001b[0m\u001b[0;34m\u001b[0m\u001b[0m\n\u001b[0m",
      "\u001b[0;31mTypeError\u001b[0m: acl() takes 2 positional arguments but 3 were given"
     ]
    }
   ],
   "source": [
    "study_client.acl('platinum', dict(member=user))"
   ]
  },
  {
   "cell_type": "markdown",
   "metadata": {},
   "source": [
    "## Working with samples"
   ]
  },
  {
   "cell_type": "code",
   "execution_count": null,
   "metadata": {},
   "outputs": [],
   "source": []
  }
 ],
 "metadata": {
  "kernelspec": {
   "display_name": "Python 3",
   "language": "python",
   "name": "python3"
  },
  "language_info": {
   "codemirror_mode": {
    "name": "ipython",
    "version": 3
   },
   "file_extension": ".py",
   "mimetype": "text/x-python",
   "name": "python",
   "nbconvert_exporter": "python",
   "pygments_lexer": "ipython3",
   "version": "3.6.6"
  }
 },
 "nbformat": 4,
 "nbformat_minor": 2
}
